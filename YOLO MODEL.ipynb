{
 "cells": [
  {
   "cell_type": "code",
   "execution_count": null,
   "id": "e2b91f92-e2ef-4bc2-a2b1-c30d5caeca0a",
   "metadata": {},
   "outputs": [
    {
     "name": "stderr",
     "output_type": "stream",
     "text": [
      "Using cache found in C:\\Users\\ragad/.cache\\torch\\hub\\ultralytics_yolov5_master\n",
      "YOLOv5  2025-8-18 Python-3.12.4 torch-2.8.0+cpu CPU\n",
      "\n",
      "Fusing layers... \n",
      "YOLOv5s summary: 213 layers, 7225885 parameters, 0 gradients, 16.4 GFLOPs\n",
      "Adding AutoShape... \n",
      "C:\\Users\\ragad/.cache\\torch\\hub\\ultralytics_yolov5_master\\models\\common.py:906: FutureWarning: `torch.cuda.amp.autocast(args...)` is deprecated. Please use `torch.amp.autocast('cuda', args...)` instead.\n",
      "  with amp.autocast(autocast):\n"
     ]
    }
   ],
   "source": [
    "import cv2\n",
    "import torch\n",
    "\n",
    "model = torch.hub.load(\"ultralytics/yolov5\", \"yolov5s\", pretrained=True)\n",
    "\n",
    "image_path = r\"C:\\Users\\ragad\\Downloads\\AI\\YOLO1.jpeg\"\n",
    "image_path = r\"C:\\Users\\ragad\\Downloads\\AI\\YOLO2.jpeg\"\n",
    "image = cv2.imread(image_path)\n",
    "\n",
    "\n",
    "results = model(image)\n",
    "\n",
    "output_image = results.render()[0]\n",
    "\n",
    "\n",
    "scale_percent = 60  \n",
    "width = int(output_image.shape[1] * scale_percent / 100)\n",
    "height = int(output_image.shape[0] * scale_percent / 100)\n",
    "dim = (width, height)\n",
    "resized = cv2.resize(output_image, dim, interpolation=cv2.INTER_AREA)\n",
    "\n",
    "\n",
    "cv2.imshow(\"YOLOv5 Detection\", resized)\n",
    "cv2.waitKey(0)\n",
    "cv2.destroyAllWindows()\n"
   ]
  },
  {
   "cell_type": "code",
   "execution_count": null,
   "id": "f7bce85d-adf3-4bcd-b3ec-293384678b17",
   "metadata": {},
   "outputs": [],
   "source": []
  },
  {
   "cell_type": "code",
   "execution_count": null,
   "id": "9fc910b6-46ca-4877-8e1c-7a5201b32583",
   "metadata": {},
   "outputs": [],
   "source": []
  }
 ],
 "metadata": {
  "kernelspec": {
   "display_name": "Python 3 (ipykernel)",
   "language": "python",
   "name": "python3"
  },
  "language_info": {
   "codemirror_mode": {
    "name": "ipython",
    "version": 3
   },
   "file_extension": ".py",
   "mimetype": "text/x-python",
   "name": "python",
   "nbconvert_exporter": "python",
   "pygments_lexer": "ipython3",
   "version": "3.12.4"
  }
 },
 "nbformat": 4,
 "nbformat_minor": 5
}
